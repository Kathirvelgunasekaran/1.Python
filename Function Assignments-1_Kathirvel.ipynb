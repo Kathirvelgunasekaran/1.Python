{
 "cells": [
  {
   "cell_type": "code",
   "execution_count": 1,
   "metadata": {},
   "outputs": [],
   "source": [
    "# Create Function\n",
    "def Subfields():\n",
    "    print(\"Sub-fields in AI are:\")\n",
    "    print(\"Machine Learning\")\n",
    "    print(\"Neural Networks\")\n",
    "    print(\"Vision\")\n",
    "    print(\"Robotics\")\n",
    "    print(\"Speech Processing\")\n",
    "    print(\"Natural Language Processing\")"
   ]
  },
  {
   "cell_type": "code",
   "execution_count": 2,
   "metadata": {},
   "outputs": [
    {
     "name": "stdout",
     "output_type": "stream",
     "text": [
      "Sub-fields in AI are:\n",
      "Machine Learning\n",
      "Neural Networks\n",
      "Vision\n",
      "Robotics\n",
      "Speech Processing\n",
      "Natural Language Processing\n"
     ]
    }
   ],
   "source": [
    "Subfields()"
   ]
  },
  {
   "cell_type": "code",
   "execution_count": null,
   "metadata": {},
   "outputs": [],
   "source": [
    "# Create Function"
   ]
  },
  {
   "cell_type": "code",
   "execution_count": 3,
   "metadata": {},
   "outputs": [],
   "source": [
    "def OddEven():\n",
    "    num=int(input(\"Enter a number:\"))\n",
    "    if(num%2==0):\n",
    "        print(num, \"is Even number\")\n",
    "    else:\n",
    "        print(num, \"is ODD number\")"
   ]
  },
  {
   "cell_type": "code",
   "execution_count": 4,
   "metadata": {},
   "outputs": [
    {
     "name": "stdout",
     "output_type": "stream",
     "text": [
      "Enter a number:4\n",
      "4 is Even number\n"
     ]
    }
   ],
   "source": [
    "OddEven()"
   ]
  },
  {
   "cell_type": "code",
   "execution_count": null,
   "metadata": {},
   "outputs": [],
   "source": [
    "# Create Function"
   ]
  },
  {
   "cell_type": "code",
   "execution_count": 11,
   "metadata": {},
   "outputs": [],
   "source": [
    "def Elegible():\n",
    "    if(gender==\"Male\" and age==18):\n",
    "        print(\"NOT ELIGIBLE\")\n",
    "    else:\n",
    "        print(\"ELIGIBLE\")"
   ]
  },
  {
   "cell_type": "code",
   "execution_count": 12,
   "metadata": {},
   "outputs": [
    {
     "name": "stdout",
     "output_type": "stream",
     "text": [
      "Your Gender:Male\n",
      "Your Age:18\n",
      "NOT ELIGIBLE\n"
     ]
    }
   ],
   "source": [
    "gender=input(\"Your Gender:\")\n",
    "age=int(input(\"Your Age:\"))\n",
    "Elegible()"
   ]
  },
  {
   "cell_type": "code",
   "execution_count": null,
   "metadata": {},
   "outputs": [],
   "source": [
    "# Create Function"
   ]
  },
  {
   "cell_type": "code",
   "execution_count": 47,
   "metadata": {},
   "outputs": [],
   "source": [
    "def percentage():\n",
    "    sub1=float(input(\"Subject1=\"))\n",
    "    sub2=float(input(\"Subject2=\"))\n",
    "    sub3=float(input(\"Subject3=\"))\n",
    "    sub4=float(input(\"Subject4=\"))\n",
    "    sub5=float(input(\"Subject5=\"))\n",
    "    add=sub1+sub2+sub3+sub4+sub5\n",
    "    print(\"Total:\", add)\n",
    "    percentage = (add / 500.0) * 100\n",
    "    print(\"Percentage :\", percentage)"
   ]
  },
  {
   "cell_type": "code",
   "execution_count": 48,
   "metadata": {},
   "outputs": [
    {
     "name": "stdout",
     "output_type": "stream",
     "text": [
      "Subject1=23\n",
      "Subject2=45\n",
      "Subject3=34\n",
      "Subject4=23\n",
      "Subject5=23\n",
      "Total: 148.0\n",
      "Percentage : 29.599999999999998\n"
     ]
    }
   ],
   "source": [
    "percentage()"
   ]
  },
  {
   "cell_type": "code",
   "execution_count": 29,
   "metadata": {},
   "outputs": [],
   "source": [
    "def triangle():\n",
    "    Height=int(input(\"Height:\"))\n",
    "    Breadth=int(input(\"Breadth:\"))\n",
    "    print(\"Area formula: (Height*Breadth)/2\")\n",
    "    AF=(Height*Breadth)/2\n",
    "    print(\"Area formula:\", AF)\n",
    "    Height1=int(input(\"Height1:\"))\n",
    "    Height2=int(input(\"Height2:\"))\n",
    "    Breadth=int(input(\"Breadth:\"))\n",
    "    print(\"Perimeter formula: Height1+Height2+Breadth\")\n",
    "    PF=Height1+Height2+Breadth\n",
    "    print(\"Perimeter of Triangle:\",PF)   "
   ]
  },
  {
   "cell_type": "code",
   "execution_count": 30,
   "metadata": {},
   "outputs": [
    {
     "name": "stdout",
     "output_type": "stream",
     "text": [
      "Height:3\n",
      "Breadth:4\n",
      "Area formula: (Height*Breadth)/2\n",
      "Area formula: 6.0\n",
      "Height1:3\n",
      "Height2:4\n",
      "Breadth:45\n",
      "Perimeter formula: Height1+Height2+Breadth\n",
      "Perimeter of Triangle: 52\n"
     ]
    }
   ],
   "source": [
    "triangle()"
   ]
  },
  {
   "cell_type": "code",
   "execution_count": null,
   "metadata": {},
   "outputs": [],
   "source": []
  }
 ],
 "metadata": {
  "kernelspec": {
   "display_name": "Python 3",
   "language": "python",
   "name": "python3"
  },
  "language_info": {
   "codemirror_mode": {
    "name": "ipython",
    "version": 3
   },
   "file_extension": ".py",
   "mimetype": "text/x-python",
   "name": "python",
   "nbconvert_exporter": "python",
   "pygments_lexer": "ipython3",
   "version": "3.7.4"
  }
 },
 "nbformat": 4,
 "nbformat_minor": 2
}
